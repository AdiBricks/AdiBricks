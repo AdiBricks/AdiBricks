{
 "cells": [
  {
   "attachments": {},
   "cell_type": "markdown",
   "metadata": {},
   "source": [
    "---\n",
    "layout: post\n",
    "title: VSCode/GitHub project\n",
    "description: A key to development in this class is the association of the IDE to Git Version Control.\n",
    "toc: true\n",
    "comments: true\n",
    "categories: [5.A, C4.1]\n",
    "courses: { csse: {week: 0}, csp: {week: 0, categories: [6.B]}, csa: {week: 0} }\n",
    "type: ccc\n",
    "---"
   ]
  },
  {
   "attachments": {},
   "cell_type": "markdown",
   "metadata": {},
   "source": [
    "## Create your own GitHub Pages Project\n",
    "> Make you own project from GitHub Pages Student Template."
   ]
  },
  {
   "attachments": {},
   "cell_type": "markdown",
   "metadata": {},
   "source": [
    "## Start a GitHub Pages Project\n",
    "> Run the following commands using terminal on you machine.  \n",
    "\n",
    "- Verify GitHub pages is running\n",
    "- Clone and Open project in VSCode\n",
    "\n",
    "```bash\n",
    "(base) id:~$ mkdir -p vscode # make a vscode directory\n",
    "(base) id:~$ cd vscode # change to the directory\n",
    "(base) id:~$ git clone https://github.com/nighthawkcoders/student.git # change to your repo\n",
    "(base) id:~$ code . # open VSCode projects in directory\n",
    "```\n",
    "\n",
    "- Push a minor \"markdown\" change and Verify on GitHub [https://code.visualstudio.com/docs/editor/versioncontrol#_git-support](https://code.visualstudio.com/docs/editor/versioncontrol#_git-support)\n",
    "- Verify \"markdown\" change on GitHub Pages\n",
    "- Create a new Jupyter notebook and publish to _notebooks directory [https://code.visualstudio.com/docs/datascience/jupyter-notebooks](https://code.visualstudio.com/docs/datascience/jupyter-notebooks)\n",
    "### VSCode Marketplace and Extensions"
   ]
  },
  {
   "attachments": {},
   "cell_type": "markdown",
   "metadata": {},
   "source": [
    "### VSCode for Python Extensions\n",
    "- VS Code [https://code.visualstudio.com/docs/languages/python](https://code.visualstudio.com/docs/languages/python)\n",
    "    - Install Python, Python Environment Manager, Python Extension Pack, Pylance\n",
    "    - Install Jupyter, Jupyter Keymap\n",
    "    - Install IntelliCode, IntelliCode API Usage Examples\n",
    "    - Windows machines install WSL Remote Development"
   ]
  },
  {
   "cell_type": "code",
   "execution_count": 6,
   "metadata": {},
   "outputs": [
    {
     "data": {
      "text/html": [
       "\n",
       "<div>\n",
       "    <div style=\"float: left; margin: 0px 10px 10px 0px;\">\n",
       "        <a href=\"https://marketplace.visualstudio.com/vscode\">\n",
       "            <img atl=\"Roles and Agile\" src=\"../images/extensions.png\" title=\"VS Code Marketplace\"\n",
       "            width=\"250\">\n",
       "        </a>\n",
       "    </div>\n",
       "    <div>\n",
       "        <hr>\n",
       "        <p>\n",
       "        Visual Studio Code claims to provide just the tools a developer needs for a quick code-build-debug and version control cycle.  It provides a Market Place for enhancements and more complex workflows.  <mark>Before adding extensions, clone projects</mark> and see what is requested or added.  Here are some extension that were added through that process or that I have added...\n",
       "        </p>\n",
       "        <ul>\n",
       "            <li>\n",
       "                <mark>In marketplace</mark> there are several extensions for Python, Python Intellisense, Python Extension Pack\n",
       "            </li>\n",
       "            <li>\n",
       "                <mark>Jupyter</mark>: This supports build jupyter ipynb files from within VS Code\n",
       "            </li>\n",
       "            <li>\n",
       "                <mark>Code Spell Checker</mark>: Got to have it when building documents, particularly if you spell and typo like the Teacher\n",
       "            </li>\n",
       "            <li>\n",
       "                <mark>IntelliCode</mark>: Got to have it when creating a code file, it will sense type of code by extension.  Also, it help with syntax as you are coding.\n",
       "            </li>\n",
       "        </ul>\n",
       "        <p>\n",
       "        <mark>Review Details in Marketplace for better explanation of purpose of the things explained above</mark>. There is a lot more!  As you need Git help look at things like <mark>Git History and GitLens</mark>.  Or, perhaps you enjoy Vim and want Vim emulation for editing, their is an extension for that.  Later, there may be interest in AWS Toolkit or Deploy extensions.  We will learn more about Marketplace Extensions as we do more.\n",
       "        </p>\n",
       "        <hr>\n",
       "    </div>\n",
       "</div>\n"
      ],
      "text/plain": [
       "<IPython.core.display.HTML object>"
      ]
     },
     "metadata": {},
     "output_type": "display_data"
    }
   ],
   "source": [
    "%%HTML\n",
    "\n",
    "<div>\n",
    "    <div style=\"float: left; margin: 0px 10px 10px 0px;\">\n",
    "        <a href=\"https://marketplace.visualstudio.com/vscode\">\n",
    "            <img atl=\"Roles and Agile\" src=\"../images/extensions.png\" title=\"VS Code Marketplace\"\n",
    "            width=\"250\">\n",
    "        </a>\n",
    "    </div>\n",
    "    <div>\n",
    "        <hr>\n",
    "        <p>\n",
    "        Visual Studio Code claims to provide just the tools a developer needs for a quick code-build-debug and version control cycle.  It provides a Market Place for enhancements and more complex workflows.  <mark>Before adding extensions, clone projects</mark> and see what is requested or added.  Here are some extension that were added through that process or that I have added...\n",
    "        </p>\n",
    "        <ul>\n",
    "            <li>\n",
    "                <mark>In marketplace</mark> there are several extensions for Python, Python Intellisense, Python Extension Pack\n",
    "            </li>\n",
    "            <li>\n",
    "                <mark>Jupyter</mark>: This supports build jupyter ipynb files from within VS Code\n",
    "            </li>\n",
    "            <li>\n",
    "                <mark>Code Spell Checker</mark>: Got to have it when building documents, particularly if you spell and typo like the Teacher\n",
    "            </li>\n",
    "            <li>\n",
    "                <mark>IntelliCode</mark>: Got to have it when creating a code file, it will sense type of code by extension.  Also, it help with syntax as you are coding.\n",
    "            </li>\n",
    "        </ul>\n",
    "        <p>\n",
    "        <mark>Review Details in Marketplace for better explanation of purpose of the things explained above</mark>. There is a lot more!  As you need Git help look at things like <mark>Git History and GitLens</mark>.  Or, perhaps you enjoy Vim and want Vim emulation for editing, their is an extension for that.  Later, there may be interest in AWS Toolkit or Deploy extensions.  We will learn more about Marketplace Extensions as we do more.\n",
    "        </p>\n",
    "        <hr>\n",
    "    </div>\n",
    "</div>"
   ]
  }
 ],
 "metadata": {
  "kernelspec": {
   "display_name": "base",
   "language": "python",
   "name": "python3"
  },
  "language_info": {
   "codemirror_mode": {
    "name": "ipython",
    "version": 3
   },
   "file_extension": ".py",
   "mimetype": "text/x-python",
   "name": "python",
   "nbconvert_exporter": "python",
   "pygments_lexer": "ipython3",
   "version": "3.9.12"
  },
  "orig_nbformat": 4
 },
 "nbformat": 4,
 "nbformat_minor": 2
}
